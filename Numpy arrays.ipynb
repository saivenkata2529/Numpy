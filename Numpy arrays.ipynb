{
 "cells": [
  {
   "cell_type": "code",
   "execution_count": 3,
   "id": "9038d397",
   "metadata": {},
   "outputs": [
    {
     "name": "stdout",
     "output_type": "stream",
     "text": [
      "shape: (3, 3)\n",
      "size: 9\n",
      "Dimension 2\n",
      "Elementype int32\n"
     ]
    }
   ],
   "source": [
    "import numpy as np\n",
    "myarray2=np.array([[1,2,3],[4,5,6],[1,1,1]])\n",
    "print(\"shape:\",myarray2.shape)\n",
    "print(\"size:\",myarray2.size)\n",
    "print(\"Dimension\",myarray2.ndim)\n",
    "print(\"Elementype\",myarray2.dtype)"
   ]
  },
  {
   "cell_type": "code",
   "execution_count": 9,
   "id": "4ca8996b",
   "metadata": {
    "scrolled": true
   },
   "outputs": [
    {
     "name": "stdout",
     "output_type": "stream",
     "text": [
      "[5 7 9]\n"
     ]
    }
   ],
   "source": [
    "import numpy as np\n",
    "a1 = np.array([1,2,3])\n",
    "a2 = np.array([4,5,6])\n",
    "\n",
    "a3 = np.add(a1,a2)\n",
    "print(a3)"
   ]
  },
  {
   "cell_type": "code",
   "execution_count": 10,
   "id": "c4ade91e",
   "metadata": {},
   "outputs": [
    {
     "name": "stdout",
     "output_type": "stream",
     "text": [
      "[-3 -3 -3]\n"
     ]
    }
   ],
   "source": [
    "import numpy as np\n",
    "a1 = np.array([1,2,3])\n",
    "a2 = np.array([4,5,6])\n",
    "\n",
    "a3 = np.subtract(a1,a2)\n",
    "print(a3)"
   ]
  },
  {
   "cell_type": "code",
   "execution_count": 11,
   "id": "838f3ab6",
   "metadata": {},
   "outputs": [
    {
     "name": "stdout",
     "output_type": "stream",
     "text": [
      "[ 4 10 18]\n"
     ]
    }
   ],
   "source": [
    "import numpy as np\n",
    "a1 = np.array([1,2,3])\n",
    "a2 = np.array([4,5,6])\n",
    "\n",
    "a3 = np.multiply(a1,a2)\n",
    "print(a3)"
   ]
  },
  {
   "cell_type": "code",
   "execution_count": 12,
   "id": "00cc4158",
   "metadata": {},
   "outputs": [
    {
     "name": "stdout",
     "output_type": "stream",
     "text": [
      "[0.25 0.4  0.5 ]\n"
     ]
    }
   ],
   "source": [
    "import numpy as np\n",
    "a1 = np.array([1,2,3])\n",
    "a2 = np.array([4,5,6])\n",
    "\n",
    "a3 = np.divide(a1,a2)\n",
    "print(a3)"
   ]
  },
  {
   "cell_type": "code",
   "execution_count": 13,
   "id": "ad923cb9",
   "metadata": {},
   "outputs": [
    {
     "name": "stdout",
     "output_type": "stream",
     "text": [
      "[0.25 0.4  0.5 ]\n"
     ]
    }
   ],
   "source": [
    "import numpy as np\n",
    "a1 = np.array([1,2,3])\n",
    "a2 = np.array([4,5,6])\n",
    "\n",
    "a3 = np.add(a1,a2)\n",
    "a3 = np.subtract(a1,a2)\n",
    "a3 = np.multiply(a1,a2)\n",
    "a3 = np.divide(a1,a2)\n",
    "print(a3)"
   ]
  },
  {
   "cell_type": "code",
   "execution_count": 3,
   "id": "46ef9fca",
   "metadata": {},
   "outputs": [
    {
     "name": "stdout",
     "output_type": "stream",
     "text": [
      "[1 2 3 4 5 6]\n",
      "<class 'numpy.ndarray'>\n"
     ]
    }
   ],
   "source": [
    "import numpy as np\n",
    "myarray = np.array([1,2,3,4,5,6])\n",
    "print(myarray)\n",
    "print(type(myarray))\n"
   ]
  },
  {
   "cell_type": "code",
   "execution_count": 3,
   "id": "80c60226",
   "metadata": {},
   "outputs": [
    {
     "name": "stdout",
     "output_type": "stream",
     "text": [
      "Array is of type: <class 'numpy.ndarray'>\n",
      "No. of dimensions: 1\n",
      "Shape of array: (5,)\n",
      "Size of the array: 5\n",
      "Array stores elemnt of type: int32\n"
     ]
    }
   ],
   "source": [
    "import numpy as np\n",
    "arr = np.array([1,2,3,4,5])\n",
    "print(\"Array is of type:\",type(arr))\n",
    "print(\"No. of dimensions:\",arr.ndim)\n",
    "print(\"Shape of array:\", arr.shape)\n",
    "print(\"Size of the array:\", arr.size)\n",
    "print(\"Array stores elemnt of type:\", arr.dtype)"
   ]
  },
  {
   "cell_type": "code",
   "execution_count": 5,
   "id": "c15d28ee",
   "metadata": {},
   "outputs": [
    {
     "name": "stdout",
     "output_type": "stream",
     "text": [
      "Array is of type: <class 'numpy.ndarray'>\n",
      "No. of dimensions: 2\n",
      "Shape of array: (2, 3)\n",
      "Size of the array: 6\n",
      "Array stores elemnt of type: int32\n"
     ]
    }
   ],
   "source": [
    "import numpy as np\n",
    "arr = np.array([[1,2,3],[4,5,6]])\n",
    "print(\"Array is of type:\",type(arr))\n",
    "print(\"No. of dimensions:\",arr.ndim)\n",
    "print(\"Shape of array:\", arr.shape)\n",
    "print(\"Size of the array:\", arr.size)\n",
    "print(\"Array stores elemnt of type:\", arr.dtype)"
   ]
  },
  {
   "cell_type": "code",
   "execution_count": 6,
   "id": "807969de",
   "metadata": {},
   "outputs": [
    {
     "name": "stdout",
     "output_type": "stream",
     "text": [
      "Array is of type: <class 'numpy.ndarray'>\n",
      "No. of dimensions: 2\n",
      "Shape of array: (3, 3)\n",
      "Size of the array: 9\n",
      "Array stores elemnt of type: int32\n"
     ]
    }
   ],
   "source": [
    "import numpy as np\n",
    "arr = np.array([[1,2,3],[4,5,6],[7,8,9]])\n",
    "print(\"Array is of type:\",type(arr))\n",
    "print(\"No. of dimensions:\",arr.ndim)\n",
    "print(\"Shape of array:\", arr.shape)\n",
    "print(\"Size of the array:\", arr.size)\n",
    "print(\"Array stores elemnt of type:\", arr.dtype)"
   ]
  },
  {
   "cell_type": "code",
   "execution_count": 8,
   "id": "92efea48",
   "metadata": {},
   "outputs": [
    {
     "name": "stdout",
     "output_type": "stream",
     "text": [
      "[[[[[[[[[[1 2 3 4 5]]]]]]]]]]\n",
      "number of dimensions : 10\n"
     ]
    }
   ],
   "source": [
    "import numpy as np\n",
    "arr = np.array([1,2,3,4,5], ndmin=10)\n",
    "print(arr)\n",
    "print('number of dimensions :', arr.ndim)"
   ]
  },
  {
   "cell_type": "code",
   "execution_count": 9,
   "id": "b2c8b58b",
   "metadata": {},
   "outputs": [
    {
     "name": "stdout",
     "output_type": "stream",
     "text": [
      "[ 0  2  4  6  8 10]\n"
     ]
    }
   ],
   "source": [
    "arange_array = np.arange(0,11,2)   \n",
    "print(arange_array)\n"
   ]
  },
  {
   "cell_type": "code",
   "execution_count": 12,
   "id": "2a07d9bb",
   "metadata": {},
   "outputs": [
    {
     "name": "stdout",
     "output_type": "stream",
     "text": [
      "Reverse Array [20 19 18 17 16 15 14 13 12 11 10  9  8  7  6  5  4  3  2  1]\n"
     ]
    }
   ],
   "source": [
    "arr2 = np.arange(20,0,-1)\n",
    "print(\"Reverse Array\", arr2)\n"
   ]
  },
  {
   "cell_type": "code",
   "execution_count": 16,
   "id": "6960b223",
   "metadata": {},
   "outputs": [
    {
     "name": "stdout",
     "output_type": "stream",
     "text": [
      "[[ 1  2  3]\n",
      " [ 4  5  6]\n",
      " [ 7  8  9]\n",
      " [10 11 12]]\n"
     ]
    }
   ],
   "source": [
    "import numpy as np\n",
    "arr = np.array([1,2,3,4,5,6,7,8,9,10,11,12])\n",
    "newarr = arr.reshape(4,3)\n",
    "print(newarr)"
   ]
  },
  {
   "cell_type": "code",
   "execution_count": 3,
   "id": "4760f4c2",
   "metadata": {},
   "outputs": [
    {
     "name": "stdout",
     "output_type": "stream",
     "text": [
      "[[0 0]\n",
      " [0 0]\n",
      " [0 0]]\n"
     ]
    }
   ],
   "source": [
    "import numpy as np\n",
    "arr = np.empty([3,2], dtype = int)\n",
    "print(arr)"
   ]
  },
  {
   "cell_type": "code",
   "execution_count": 5,
   "id": "63eb97d8",
   "metadata": {},
   "outputs": [
    {
     "name": "stdout",
     "output_type": "stream",
     "text": [
      "[[1 1]\n",
      " [1 1]\n",
      " [1 1]]\n",
      "shape: (3, 2)\n",
      "size: 6\n",
      "Dimensions: 2\n",
      "Elements type: int32\n"
     ]
    }
   ],
   "source": [
    "import numpy as np\n",
    "arr1 = np.ones([3,2], dtype = int)\n",
    "print(arr1)\n",
    "print(\"shape:\", arr1.shape)\n",
    "print(\"size:\", arr1.size)\n",
    "print(\"Dimensions:\", arr1.ndim)\n",
    "print(\"Elements type:\", arr1.dtype)"
   ]
  },
  {
   "cell_type": "code",
   "execution_count": 6,
   "id": "27b19c41",
   "metadata": {},
   "outputs": [
    {
     "name": "stdout",
     "output_type": "stream",
     "text": [
      "array: [5 6 7]\n",
      "asarray [ 5 10  7]\n"
     ]
    }
   ],
   "source": [
    "import numpy as np\n",
    "arr = np.array([5,6,7])\n",
    "x = np.array(arr)\n",
    "y = np.asarray(arr)\n",
    "arr[1] = 10\n",
    "print(\"array:\", x)\n",
    "print(\"asarray\", y)"
   ]
  },
  {
   "cell_type": "code",
   "execution_count": 8,
   "id": "94bfd40b",
   "metadata": {},
   "outputs": [
    {
     "name": "stdout",
     "output_type": "stream",
     "text": [
      "array: [5 6 7]\n",
      "asarray [ 5  6 10]\n"
     ]
    }
   ],
   "source": [
    "import numpy as np\n",
    "arr = np.array([5,6,7])\n",
    "x = np.array(arr)\n",
    "y = np.asarray(arr)\n",
    "arr[2] = 10\n",
    "print(\"array:\", x)\n",
    "print(\"asarray\", y)"
   ]
  },
  {
   "cell_type": "code",
   "execution_count": 9,
   "id": "030379b3",
   "metadata": {},
   "outputs": [
    {
     "name": "stdout",
     "output_type": "stream",
     "text": [
      "array: [5 6 7]\n",
      "asarray [10  6  7]\n"
     ]
    }
   ],
   "source": [
    "import numpy as np\n",
    "arr = np.array([5,6,7])\n",
    "x = np.array(arr)\n",
    "y = np.asarray(arr)\n",
    "arr[0] = 10\n",
    "print(\"array:\", x)\n",
    "print(\"asarray\", y)"
   ]
  },
  {
   "cell_type": "code",
   "execution_count": 11,
   "id": "27b56a0c",
   "metadata": {},
   "outputs": [
    {
     "name": "stdout",
     "output_type": "stream",
     "text": [
      "array: [5 6 7]\n",
      "asarray [10  9  8]\n"
     ]
    }
   ],
   "source": [
    "import numpy as np\n",
    "arr = np.array([5,6,7])\n",
    "x = np.array(arr)\n",
    "y = np.asarray(arr)\n",
    "arr[0] = 10\n",
    "arr[1] = 9\n",
    "arr[2] = 8\n",
    "print(\"array:\", x)\n",
    "print(\"asarray\", y)"
   ]
  },
  {
   "cell_type": "code",
   "execution_count": 15,
   "id": "e14d2a2d",
   "metadata": {},
   "outputs": [
    {
     "name": "stdout",
     "output_type": "stream",
     "text": [
      "binary representation of a: 0b1100\n",
      "binary representation of b: 0b11001\n",
      "bitwise and of a and b: 8\n"
     ]
    }
   ],
   "source": [
    "#bitwise operators\n",
    "import numpy as np\n",
    "a = 12\n",
    "b = 25\n",
    "print(\"binary representation of a:\", bin(a))\n",
    "print(\"binary representation of b:\", bin(b))\n",
    "print(\"bitwise and of a and b:\", np.bitwise_and(a,b))"
   ]
  },
  {
   "cell_type": "code",
   "execution_count": 14,
   "id": "65bc56bd",
   "metadata": {},
   "outputs": [
    {
     "name": "stdout",
     "output_type": "stream",
     "text": [
      "binary representation of a: 0b1100\n",
      "binary representation of b: 0b11001\n",
      "bitwise or of a and b: 29\n"
     ]
    }
   ],
   "source": [
    "import numpy as np\n",
    "a = 12\n",
    "b = 25\n",
    "print(\"binary representation of a:\", bin(a))\n",
    "print(\"binary representation of b:\", bin(b))\n",
    "print(\"bitwise or of a and b:\", np.bitwise_or(a,b))"
   ]
  },
  {
   "cell_type": "code",
   "execution_count": 16,
   "id": "f7461d59",
   "metadata": {},
   "outputs": [
    {
     "name": "stdout",
     "output_type": "stream",
     "text": [
      "left shift of 10 by two positions:\n",
      "40\n"
     ]
    }
   ],
   "source": [
    "import numpy as np\n",
    "a = 10\n",
    "print('left shift of 10 by two positions:')\n",
    "print(np.left_shift(10,2))"
   ]
  },
  {
   "cell_type": "code",
   "execution_count": 18,
   "id": "efc79e61",
   "metadata": {},
   "outputs": [
    {
     "name": "stdout",
     "output_type": "stream",
     "text": [
      "left shift of 10 by one positions:\n",
      "20\n"
     ]
    }
   ],
   "source": [
    "import numpy as np\n",
    "a = 10\n",
    "print('left shift of 10 by one positions:')\n",
    "print(np.left_shift(10,1))"
   ]
  },
  {
   "cell_type": "code",
   "execution_count": 19,
   "id": "1db46a83",
   "metadata": {},
   "outputs": [
    {
     "name": "stdout",
     "output_type": "stream",
     "text": [
      "left shift of 10 by five positions:\n",
      "320\n"
     ]
    }
   ],
   "source": [
    "import numpy as np\n",
    "a = 10\n",
    "print('left shift of 10 by five positions:')\n",
    "print(np.left_shift(10,5))"
   ]
  },
  {
   "cell_type": "code",
   "execution_count": 20,
   "id": "5a55239b",
   "metadata": {},
   "outputs": [
    {
     "name": "stdout",
     "output_type": "stream",
     "text": [
      "right shift of 40 by two positions:\n",
      "10\n"
     ]
    }
   ],
   "source": [
    "import numpy as np\n",
    "a = 40\n",
    "print('right shift of 40 by two positions:')\n",
    "print(np.right_shift(40,2))"
   ]
  },
  {
   "cell_type": "code",
   "execution_count": 21,
   "id": "c167835a",
   "metadata": {},
   "outputs": [
    {
     "name": "stdout",
     "output_type": "stream",
     "text": [
      "right shift of 40 by one positions:\n",
      "20\n"
     ]
    }
   ],
   "source": [
    "import numpy as np\n",
    "a = 40\n",
    "print('right shift of 40 by one positions:')\n",
    "print(np.right_shift(40,1))"
   ]
  },
  {
   "cell_type": "code",
   "execution_count": 8,
   "id": "3ffdb83c",
   "metadata": {},
   "outputs": [
    {
     "name": "stdout",
     "output_type": "stream",
     "text": [
      "Concate two strings:\n",
      "['helloxyz']\n",
      "\n",
      "\n"
     ]
    }
   ],
   "source": [
    "# Stringn funtions\n",
    "import numpy as np\n",
    "print ('Concate two strings:')\n",
    "print (np.char.add(['hello'],['xyz']))\n",
    "print ('\\n')"
   ]
  },
  {
   "cell_type": "code",
   "execution_count": 6,
   "id": "bb9427b7",
   "metadata": {},
   "outputs": [
    {
     "name": "stdout",
     "output_type": "stream",
     "text": [
      "HelloHelloHello\n"
     ]
    }
   ],
   "source": [
    "import numpy as np \n",
    "print (np.char.multiply('Hello',3))\n",
    "\n"
   ]
  },
  {
   "cell_type": "code",
   "execution_count": 11,
   "id": "77f6c250",
   "metadata": {},
   "outputs": [
    {
     "name": "stdout",
     "output_type": "stream",
     "text": [
      "*******hello********\n"
     ]
    }
   ],
   "source": [
    "import numpy as np \n",
    "# np.char.center(arr, width,fillchar) \n",
    "print (np.char.center('hello', 20,fillchar = '*'))\n"
   ]
  },
  {
   "cell_type": "code",
   "execution_count": 12,
   "id": "69de8dd3",
   "metadata": {},
   "outputs": [
    {
     "name": "stdout",
     "output_type": "stream",
     "text": [
      "Hello world\n"
     ]
    }
   ],
   "source": [
    "import numpy as np \n",
    "print( np.char.capitalize('hello world'))\n"
   ]
  },
  {
   "cell_type": "code",
   "execution_count": 13,
   "id": "49520f68",
   "metadata": {},
   "outputs": [
    {
     "name": "stdout",
     "output_type": "stream",
     "text": [
      "[5 7 9]\n"
     ]
    }
   ],
   "source": [
    "#Operations on Numpy\n",
    "import numpy as np\n",
    "a = np.array([1,2,3])\n",
    "b = np.array([4,5,6])\n",
    "c = a+b \n",
    "print(c)"
   ]
  },
  {
   "cell_type": "code",
   "execution_count": 14,
   "id": "3bb4c7f0",
   "metadata": {},
   "outputs": [
    {
     "name": "stdout",
     "output_type": "stream",
     "text": [
      "(3,)\n",
      "(3,)\n",
      "[11 22 33]\n",
      "[ 9 18 27]\n",
      "[10 40 90]\n",
      "[10. 10. 10.]\n"
     ]
    }
   ],
   "source": [
    "import numpy as np\n",
    "a = np.array([10,20,30])\n",
    "b = np.array([1,2,3])\n",
    "print(a.shape)\n",
    "print(b.shape)\n",
    "print(np.add(a,b))\n",
    "print(np.subtract(a,b))\n",
    "print(np.multiply(a,b))\n",
    "print(np.divide(a,b))"
   ]
  },
  {
   "cell_type": "code",
   "execution_count": null,
   "id": "4806755c",
   "metadata": {},
   "outputs": [],
   "source": []
  }
 ],
 "metadata": {
  "kernelspec": {
   "display_name": "Python 3 (ipykernel)",
   "language": "python",
   "name": "python3"
  },
  "language_info": {
   "codemirror_mode": {
    "name": "ipython",
    "version": 3
   },
   "file_extension": ".py",
   "mimetype": "text/x-python",
   "name": "python",
   "nbconvert_exporter": "python",
   "pygments_lexer": "ipython3",
   "version": "3.10.5"
  }
 },
 "nbformat": 4,
 "nbformat_minor": 5
}
